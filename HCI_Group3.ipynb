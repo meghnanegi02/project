{
  "nbformat": 4,
  "nbformat_minor": 0,
  "metadata": {
    "colab": {
      "provenance": [],
      "include_colab_link": true
    },
    "kernelspec": {
      "name": "python3",
      "display_name": "Python 3"
    },
    "language_info": {
      "name": "python"
    }
  },
  "cells": [
    {
      "cell_type": "markdown",
      "metadata": {
        "id": "view-in-github",
        "colab_type": "text"
      },
      "source": [
        "<a href=\"https://colab.research.google.com/github/meghnanegi02/project/blob/main/HCI_Group3.ipynb\" target=\"_parent\"><img src=\"https://colab.research.google.com/assets/colab-badge.svg\" alt=\"Open In Colab\"/></a>"
      ]
    },
    {
      "cell_type": "markdown",
      "source": [
        "##Installing and importing necessary packages and libraries"
      ],
      "metadata": {
        "id": "zchqu4my80Y6"
      }
    },
    {
      "cell_type": "code",
      "execution_count": null,
      "metadata": {
        "id": "n8BcCyz1xVo7"
      },
      "outputs": [],
      "source": [
        "#installing module for using google's generative ai\n",
        "%pip install -q -U google-genai"
      ]
    },
    {
      "cell_type": "code",
      "source": [
        "#setting up gen ai model\n",
        "from google import genai"
      ],
      "metadata": {
        "id": "5GYbUovbHJq4"
      },
      "execution_count": null,
      "outputs": []
    },
    {
      "cell_type": "code",
      "source": [
        "#securely store the gemini api key\n",
        "from google.colab import userdata\n",
        "GOOGLE_API_KEY=userdata.get('GOOGLE_API_KEY')"
      ],
      "metadata": {
        "id": "BNEKUfF7HUHQ"
      },
      "execution_count": null,
      "outputs": []
    },
    {
      "cell_type": "code",
      "source": [
        "import textwrap\n",
        "from IPython.display import display\n",
        "from IPython.display import Markdown\n",
        "\n",
        "#function to view text in colab file\n",
        "def to_markdown(text):\n",
        "  text = text.replace('•', '  *')\n",
        "  return Markdown(textwrap.indent(text, '> ', predicate=lambda _: True))"
      ],
      "metadata": {
        "id": "YT0X_hSUPASQ"
      },
      "execution_count": null,
      "outputs": []
    },
    {
      "cell_type": "markdown",
      "source": [
        "##Using Gemini through API key and prompt engineering to generate response"
      ],
      "metadata": {
        "id": "_Jdu8iom87yW"
      }
    },
    {
      "cell_type": "code",
      "source": [
        "# URL = \"https://storage.googleapis.com/generativeai-downloads/data/State_of_the_Union_Address_30_January_1961.mp3\""
      ],
      "metadata": {
        "id": "MjzluU0Ul1JZ"
      },
      "execution_count": null,
      "outputs": []
    },
    {
      "cell_type": "code",
      "source": [
        "# !wget -q $URL -O sample.mp3"
      ],
      "metadata": {
        "id": "HRu4jj0Sl36D"
      },
      "execution_count": null,
      "outputs": []
    },
    {
      "cell_type": "code",
      "source": [
        "client = genai.Client(api_key=GOOGLE_API_KEY)\n",
        "myfile = client.files.upload(file='/content/Cloud Computing In 6 Minutes  What Is Cloud Computing_  Cloud Computing Explained  Simplilearn.mp3')\n",
        "response = client.models.generate_content(\n",
        "  model='gemini-2.0-flash',\n",
        "  contents=['make notes for content in the audio file', myfile]\n",
        ")\n",
        "to_markdown(response.text)"
      ],
      "metadata": {
        "id": "xjk9hdLRpsnb",
        "colab": {
          "base_uri": "https://localhost:8080/",
          "height": 1000
        },
        "outputId": "bdc1ac1b-9bd4-4674-fbfc-84f3fd338575"
      },
      "execution_count": null,
      "outputs": [
        {
          "output_type": "execute_result",
          "data": {
            "text/plain": [
              "<IPython.core.display.Markdown object>"
            ],
            "text/markdown": "> Okay, here are some notes on the content of the audio file:\n> \n> **Overall Theme:**\n> \n> *   The audio file focuses on a small software development firm owner considering cloud computing to scale their business. It compares on-premise vs. cloud-based solutions.\n> \n> **1. The Problem:**\n> \n> *   Small firm wants to scale up.\n> *   Roadblocks: Small team, unpredictable demand, limited resources.\n> \n> **2. On-Premise vs. Cloud Comparison:**\n> \n> *   **Scalability:**\n>     *   On-Premise: More expensive to scale, limited options, difficult to scale down, heavy losses (infrastructure, maintenance).\n>     *   Cloud: Pay-as-you-go, easier/faster scaling up/down.\n> *   **Server Storage:**\n>     *   On-Premise: Requires a lot of space, power, and maintenance.\n>     *   Cloud: Managed and maintained by the cloud service provider (saving money & space).\n> *   **Data Security:**\n>     *   On-Premise: Less data security (complex physical/IT security).\n>     *   Cloud: Better security, less monitoring/management.\n> *   **Data Recovery:**\n>     *   On-Premise: Low chance of recovery after data loss.\n>     *   Cloud: Robust disaster recovery measures, faster/easier data recovery.\n> *   **Maintenance:**\n>     *   On-Premise: Additional teams for hardware/software maintenance (high costs).\n>     *   Cloud: Maintained by the cloud service provider (reduced costs & resources).\n> \n> **3.  Cloud Computing Explained:**\n> \n> *   On-demand computing services over the internet.\n> *   Pay-as-you-go basis.\n> *   Manage files/services over the internet instead of local devices.\n> \n> **4. Cloud Computing Models:**\n> \n> *   Two types of models: Deployment and Service.\n> \n> **5. Deployment Models (Analogy: Traveling to work):**\n> \n> *   **Public Cloud (Bus):**\n>     *   Infrastructure available to the public over the internet.\n>     *   Owned by cloud service providers.\n> *   **Private Cloud (Own Car):**\n>     *   Exclusively operated by a single organization.\n>     *   Managed by the organization or a third party.\n> *   **Hybrid Cloud (Hail a Cab):**\n>     *   Combination of public and private cloud functionalities.\n> \n> **6. Service Models:**\n> \n> *   ES, pass and SAS.\n> *   **Infrastructure as a Service (IaaS):**\n>     *   Access to basic computing infrastructure.\n>     *   Commonly used by IT administrators.\n>     *   Manage data, runtime, middleware, applications, OS; cloud provider handles the rest.\n> *   **Platform as a Service (PaaS):**\n>     *   Cloud platforms for developing, testing, and managing applications.\n>     *   Deploy applications without managing the underlying infrastructure.\n> *   **Software as a service (SaaS):**\n> \n> Hope this helps! Let me know if you want me to dive deeper into anything."
          },
          "metadata": {},
          "execution_count": 24
        }
      ]
    },
    {
      "cell_type": "code",
      "source": [
        "client = genai.Client(api_key=GOOGLE_API_KEY)\n",
        "myfile = client.files.upload(file='/content/Cloud Computing In 6 Minutes  What Is Cloud Computing_  Cloud Computing Explained  Simplilearn.mp3')\n",
        "response = client.models.generate_content(\n",
        "  model='gemini-2.0-flash',\n",
        "  contents=['generate the transcript of this audio. translate the result in english language', myfile]\n",
        ")\n",
        "to_markdown(response.text)"
      ],
      "metadata": {
        "id": "vNj0s_U_4tgk",
        "colab": {
          "base_uri": "https://localhost:8080/",
          "height": 427
        },
        "outputId": "f7fa3281-d330-4e94-90cf-539b1c4dd9d1"
      },
      "execution_count": null,
      "outputs": [
        {
          "output_type": "execute_result",
          "data": {
            "text/plain": [
              "<IPython.core.display.Markdown object>"
            ],
            "text/markdown": "> Imagine you're the owner of a small software development firm, and you want to scale your business up. However, a small team size, the unpredictability of demand, and limited resources are roadblocks for this expansion. That's when you hear about cloud computing. But before investing money into it, you decide to draw up the differences between on-premise and cloud-based computing to make a better decision. When it comes to scalability, you pay more for an on-premise setup and get lesser options, too. Once you've scaled up, it is difficult to scale down, and often leads to heavy losses in terms of infrastructure and maintenance costs. Cloud computing, on the other hand, allows you to pay only for how much you use, with much easier and faster provisions for scaling up or down.\n> \n> Next, let's talk about server storage. On-premise systems need a lot of space for their servers, notwithstanding the power and maintenance hassles that come with them. On the other hand, cloud computing solutions are offered by cloud service providers who manage and maintain the servers, saving you both money and space. Then we have data security. On-premise systems offer less data security, thanks to a complicated combination of physical and traditional IT security measures, whereas cloud computing systems offer much better security, and lets you avoid having to constantly monitor and manage security protocols.\n> \n> In the event that a data loss does occur, the chance for data recovery with on-premise setups are very small. In contrast, cloud computing systems have robust disaster recovery measures in place to ensure faster and easier data recovery. Finally, we have maintenance. On-premise systems also require additional teams for hardware and software maintenance, loading up the costs by a considerable degree. Cloud computing systems, on the other hand, are maintained by the cloud service providers, reducing your costs and resource allocation substantially.\n> \n> So now, thinking that cloud computing is a better option, you decide to take a closer look at what exactly cloud computing is. Cloud computing refers to the delivery of on-demand computing services over the internet on a pay-as-you-go basis. In simpler words, rather than managing files and services on a local storage device, you'll be doing the same over the internet in a cost-efficient manner. Cloud computing has two types of models, deployment model and service model. There are three types of deployment models, public, private, and hybrid cloud. Imagine you're traveling to work. You've got three options to choose from. One, you have buses, which represent public clouds. In this case, the cloud infrastructure is available to the public over the internet. These are owned by cloud service providers. Two, then you have the option of using your own car. This represents the private cloud."
          },
          "metadata": {},
          "execution_count": 23
        }
      ]
    },
    {
      "cell_type": "code",
      "source": [
        "client = genai.Client(api_key=GOOGLE_API_KEY)\n",
        "myfile = client.files.upload(file='/content/hci sample audio.mp3')\n",
        "response = client.models.generate_content(\n",
        "  model='gemini-2.0-flash',\n",
        "  contents=['generate notes from the audio content of this file', myfile]\n",
        ")\n",
        "to_markdown(response.text)"
      ],
      "metadata": {
        "id": "MQ50lQyZ4teY",
        "colab": {
          "base_uri": "https://localhost:8080/",
          "height": 1000
        },
        "outputId": "0272df5a-d06c-4c62-b66a-3b34fb497c41"
      },
      "execution_count": null,
      "outputs": [
        {
          "output_type": "execute_result",
          "data": {
            "text/plain": [
              "<IPython.core.display.Markdown object>"
            ],
            "text/markdown": "> Okay, here are the notes from the audio file.\n> \n> **General Notes:**\n> *   The lecture is about transport layer protocols in networks, specifically related to mobile ad hoc networks (MANETs).\n> *   The speaker notes that transport layer protocols share similarities with network and MAC layer protocols, particularly in design issues, goals, and classifications.\n> *   The transport layer is responsible for end-to-end connections.\n> *   In MANETs, mobility is handled by lower layers, but the transport layer needs to ensure connection stability.\n> *   Two key transport layer protocols: UDP and TCP.\n> \n> **Transport Layer Objectives:**\n> *   End-to-end connection and delivery.\n> *   Flow control and congestion control.\n> *   Congestion: Too much data traffic in the network.\n> *   TCP congestion control mechanisms like slow start are mentioned.\n> \n> **Issues in Ad Hoc Networks:**\n> *   **Induced Traffic:** Broadcast nature can lead to unnecessary traffic as data is sent to all nodes within range, even if not relevant.\n> *   **Induced Throughput Unfairness:** Lower layer delays (network/MAC) can impact transport layer performance.  Delays caused by network layer impacting Transport layer.\n> *   Clear segregation between congestion control and flow control is difficult to achieve because congestion is often a default state. Mobile devices make flow control challenging.\n> *   Lack of clear-cut protocols specifically designed for congestion or flow control.\n> *   Dynamic topology affects performance. The network is constantly changing.\n> \n> **Resolving Issues in Ad Hoc Networks:**\n> *   The lecture outlines different approaches and protocols aimed at addressing the unique challenges of transport layer communication in MANETs.\n> \n> **Classification of Protocols and approaches**\n> *   Split Approach\n> *   End-to-End Approach\n> *   Other Layer \n> \n> **Different protocols discussed**:\n> *   **Split TCP:** Aims to improve channel fairness by splitting transport layer objectives into congestion control and end-to-end reliability.  It splits long TCP connections into smaller, concatenated connections with intermediate terminating nodes. \n>     *   **Advantages:** Improves throughput and fairness; reduces the impact of mobility. \n>     *   **Disadvantages:** Requires modifications to the TCP protocol itself.\n> *   **TCP-ELFN (Explicit Link Failure Notification):** Protocol that explicitly notifies the link is broken. Uses TCP probe packets to detect disconnections and re-establish routes.\n>     *   **Advantages**: Reduces overhead processing in bad routes.\n>     *   **Disadvantages**: Needs new path information, adding complexity and overhead.\n> *   **TCP with Feedback (TCP-F):** Adds a feedback mechanism providing information about frequently broken paths.  Notifies that the link is broken for extended period of time\n>     *   **Advantages:** Simple\n>     *   **Disadvantages:** Must reroute via different path.\n> *   **TCP-DOS (TCP with buffering Capability and sequence Information):** A protocol that enables buffering capability and sequence information so that new path is sent rather than rescinding the old path.\n>     *   **Advantages:** Improves performances\n>     *   **Disadvantages:** Requires routing, increasing implementation\n> *   **Ad-hoc TCP (ATCP):** End to end connection that works in three stages.\n>     *   Persistent State\n>     *   Congestion Control State\n>     *   Re transmission State"
          },
          "metadata": {},
          "execution_count": 27
        }
      ]
    },
    {
      "cell_type": "code",
      "source": [],
      "metadata": {
        "id": "z-6zIQDN4tbR"
      },
      "execution_count": null,
      "outputs": []
    },
    {
      "cell_type": "code",
      "source": [],
      "metadata": {
        "id": "5c0gojXM4tYE"
      },
      "execution_count": null,
      "outputs": []
    },
    {
      "cell_type": "code",
      "source": [],
      "metadata": {
        "id": "IToiIoTI4tVc"
      },
      "execution_count": null,
      "outputs": []
    },
    {
      "cell_type": "code",
      "source": [],
      "metadata": {
        "id": "TzFNVZmS4tSu"
      },
      "execution_count": null,
      "outputs": []
    },
    {
      "cell_type": "code",
      "source": [],
      "metadata": {
        "id": "nVQhp-M64tPR"
      },
      "execution_count": null,
      "outputs": []
    }
  ]
}